{
 "cells": [
  {
   "cell_type": "markdown",
   "metadata": {},
   "source": [
    "# Predicting Customers Churn\n",
    "\n",
    "Idea from [Yhat](http://blog.yhat.com/posts/predicting-customer-churn-with-sklearn.html), then modified by Hassen Taidirt to include business considerations.\n",
    "\n",
    "***"
   ]
  },
  {
   "cell_type": "markdown",
   "metadata": {},
   "source": [
    "In this notebook, I'll try to predict customers churn, in a business perspective to reduce churn costs. I started with this blog post from [Yhat](http://blog.yhat.com/posts/predicting-customer-churn-with-sklearn.html) then I modified their study because they didn't included business considerations in their predictions.\n",
    "\n",
    "The goal is not only to predict which customer is more likely to churn. _Why_ do we want to predict customers churn? To reduce loss. Here, there is an implicit business goal. The predictive model doesn'r only need to preduct customers at risk but also reduce the company loss due to churns. That's what I do in this notebook, which is not covered in the original Yhat blog post (in fact, there is a mention of this business perspective, but no additional details were provided).\n",
    "\n",
    "I will load a customers database of a telecom company and preprocess it before study. Then, I will discuss some modeling considerations that are specific to this database. Next, I will build few models and tweak them to find the best predictor that reduces costs. Finally, a conclusion that will also summarize learned lessons will close this notebook.\n",
    "\n",
    "Here we go!\n",
    "\n",
    "_Nota:_ Please note that I'm not going to define any business term until this is useful for the study. This is out of the scope of our study goal which is to show how to apply Predictive Modeling in a business context. Please refer to wikipedia/google if needed, or just email me at: htaidirt [at] gmail [dot] com\n",
    "\n",
    "***"
   ]
  },
  {
   "cell_type": "markdown",
   "metadata": {},
   "source": [
    "## Step 0: Preparation and data load\n",
    "\n",
    "Nothing exciting here, only loading necessary python modules and data drom Dropbox."
   ]
  },
  {
   "cell_type": "code",
   "execution_count": 1,
   "metadata": {
    "collapsed": true
   },
   "outputs": [],
   "source": [
    "%matplotlib inline\n",
    "\n",
    "import numpy as np\n",
    "\n",
    "import pandas as pd\n",
    "pd.set_option('display.width', 500)\n",
    "pd.set_option('display.max_columns', 100)\n",
    "pd.set_option('display.notebook_repr_html', True)\n",
    "\n",
    "import seaborn as sns\n",
    "sns.set_style('whitegrid')\n",
    "sns.set_context('poster')\n",
    "\n",
    "from matplotlib import rcParams\n",
    "import matplotlib.pyplot as plt"
   ]
  },
  {
   "cell_type": "code",
   "execution_count": 2,
   "metadata": {
    "collapsed": true
   },
   "outputs": [],
   "source": [
    "from sklearn.grid_search import GridSearchCV\n",
    "from sklearn.metrics import confusion_matrix"
   ]
  },
  {
   "cell_type": "code",
   "execution_count": 3,
   "metadata": {
    "collapsed": true
   },
   "outputs": [],
   "source": [
    "# Source: https://dl.dropboxusercontent.com/u/75194/churn.csv\n",
    "data_original = pd.read_csv('./data/data_original.csv')"
   ]
  },
  {
   "cell_type": "code",
   "execution_count": 4,
   "metadata": {
    "collapsed": false
   },
   "outputs": [
    {
     "data": {
      "text/html": [
       "<div>\n",
       "<table border=\"1\" class=\"dataframe\">\n",
       "  <thead>\n",
       "    <tr style=\"text-align: right;\">\n",
       "      <th></th>\n",
       "      <th>State</th>\n",
       "      <th>Account Length</th>\n",
       "      <th>Area Code</th>\n",
       "      <th>Phone</th>\n",
       "      <th>Int'l Plan</th>\n",
       "      <th>VMail Plan</th>\n",
       "      <th>VMail Message</th>\n",
       "      <th>Day Mins</th>\n",
       "      <th>Day Calls</th>\n",
       "      <th>Day Charge</th>\n",
       "      <th>Eve Mins</th>\n",
       "      <th>Eve Calls</th>\n",
       "      <th>Eve Charge</th>\n",
       "      <th>Night Mins</th>\n",
       "      <th>Night Calls</th>\n",
       "      <th>Night Charge</th>\n",
       "      <th>Intl Mins</th>\n",
       "      <th>Intl Calls</th>\n",
       "      <th>Intl Charge</th>\n",
       "      <th>CustServ Calls</th>\n",
       "      <th>Churn?</th>\n",
       "    </tr>\n",
       "  </thead>\n",
       "  <tbody>\n",
       "    <tr>\n",
       "      <th>0</th>\n",
       "      <td>KS</td>\n",
       "      <td>128</td>\n",
       "      <td>415</td>\n",
       "      <td>382-4657</td>\n",
       "      <td>no</td>\n",
       "      <td>yes</td>\n",
       "      <td>25</td>\n",
       "      <td>265.1</td>\n",
       "      <td>110</td>\n",
       "      <td>45.07</td>\n",
       "      <td>197.4</td>\n",
       "      <td>99</td>\n",
       "      <td>16.78</td>\n",
       "      <td>244.7</td>\n",
       "      <td>91</td>\n",
       "      <td>11.01</td>\n",
       "      <td>10.0</td>\n",
       "      <td>3</td>\n",
       "      <td>2.70</td>\n",
       "      <td>1</td>\n",
       "      <td>False.</td>\n",
       "    </tr>\n",
       "    <tr>\n",
       "      <th>1</th>\n",
       "      <td>OH</td>\n",
       "      <td>107</td>\n",
       "      <td>415</td>\n",
       "      <td>371-7191</td>\n",
       "      <td>no</td>\n",
       "      <td>yes</td>\n",
       "      <td>26</td>\n",
       "      <td>161.6</td>\n",
       "      <td>123</td>\n",
       "      <td>27.47</td>\n",
       "      <td>195.5</td>\n",
       "      <td>103</td>\n",
       "      <td>16.62</td>\n",
       "      <td>254.4</td>\n",
       "      <td>103</td>\n",
       "      <td>11.45</td>\n",
       "      <td>13.7</td>\n",
       "      <td>3</td>\n",
       "      <td>3.70</td>\n",
       "      <td>1</td>\n",
       "      <td>False.</td>\n",
       "    </tr>\n",
       "    <tr>\n",
       "      <th>2</th>\n",
       "      <td>NJ</td>\n",
       "      <td>137</td>\n",
       "      <td>415</td>\n",
       "      <td>358-1921</td>\n",
       "      <td>no</td>\n",
       "      <td>no</td>\n",
       "      <td>0</td>\n",
       "      <td>243.4</td>\n",
       "      <td>114</td>\n",
       "      <td>41.38</td>\n",
       "      <td>121.2</td>\n",
       "      <td>110</td>\n",
       "      <td>10.30</td>\n",
       "      <td>162.6</td>\n",
       "      <td>104</td>\n",
       "      <td>7.32</td>\n",
       "      <td>12.2</td>\n",
       "      <td>5</td>\n",
       "      <td>3.29</td>\n",
       "      <td>0</td>\n",
       "      <td>False.</td>\n",
       "    </tr>\n",
       "    <tr>\n",
       "      <th>3</th>\n",
       "      <td>OH</td>\n",
       "      <td>84</td>\n",
       "      <td>408</td>\n",
       "      <td>375-9999</td>\n",
       "      <td>yes</td>\n",
       "      <td>no</td>\n",
       "      <td>0</td>\n",
       "      <td>299.4</td>\n",
       "      <td>71</td>\n",
       "      <td>50.90</td>\n",
       "      <td>61.9</td>\n",
       "      <td>88</td>\n",
       "      <td>5.26</td>\n",
       "      <td>196.9</td>\n",
       "      <td>89</td>\n",
       "      <td>8.86</td>\n",
       "      <td>6.6</td>\n",
       "      <td>7</td>\n",
       "      <td>1.78</td>\n",
       "      <td>2</td>\n",
       "      <td>False.</td>\n",
       "    </tr>\n",
       "    <tr>\n",
       "      <th>4</th>\n",
       "      <td>OK</td>\n",
       "      <td>75</td>\n",
       "      <td>415</td>\n",
       "      <td>330-6626</td>\n",
       "      <td>yes</td>\n",
       "      <td>no</td>\n",
       "      <td>0</td>\n",
       "      <td>166.7</td>\n",
       "      <td>113</td>\n",
       "      <td>28.34</td>\n",
       "      <td>148.3</td>\n",
       "      <td>122</td>\n",
       "      <td>12.61</td>\n",
       "      <td>186.9</td>\n",
       "      <td>121</td>\n",
       "      <td>8.41</td>\n",
       "      <td>10.1</td>\n",
       "      <td>3</td>\n",
       "      <td>2.73</td>\n",
       "      <td>3</td>\n",
       "      <td>False.</td>\n",
       "    </tr>\n",
       "  </tbody>\n",
       "</table>\n",
       "</div>"
      ],
      "text/plain": [
       "  State  Account Length  Area Code     Phone Int'l Plan VMail Plan  VMail Message  Day Mins  Day Calls  Day Charge  Eve Mins  Eve Calls  Eve Charge  Night Mins  Night Calls  Night Charge  Intl Mins  Intl Calls  Intl Charge  CustServ Calls  Churn?\n",
       "0    KS             128        415  382-4657         no        yes             25     265.1        110       45.07     197.4         99       16.78       244.7           91         11.01       10.0           3         2.70               1  False.\n",
       "1    OH             107        415  371-7191         no        yes             26     161.6        123       27.47     195.5        103       16.62       254.4          103         11.45       13.7           3         3.70               1  False.\n",
       "2    NJ             137        415  358-1921         no         no              0     243.4        114       41.38     121.2        110       10.30       162.6          104          7.32       12.2           5         3.29               0  False.\n",
       "3    OH              84        408  375-9999        yes         no              0     299.4         71       50.90      61.9         88        5.26       196.9           89          8.86        6.6           7         1.78               2  False.\n",
       "4    OK              75        415  330-6626        yes         no              0     166.7        113       28.34     148.3        122       12.61       186.9          121          8.41       10.1           3         2.73               3  False."
      ]
     },
     "execution_count": 4,
     "metadata": {},
     "output_type": "execute_result"
    }
   ],
   "source": [
    "data_original.head()"
   ]
  },
  {
   "cell_type": "code",
   "execution_count": 5,
   "metadata": {
    "collapsed": false
   },
   "outputs": [
    {
     "data": {
      "text/html": [
       "<div>\n",
       "<table border=\"1\" class=\"dataframe\">\n",
       "  <thead>\n",
       "    <tr style=\"text-align: right;\">\n",
       "      <th></th>\n",
       "      <th>State</th>\n",
       "      <th>Account Length</th>\n",
       "      <th>Area Code</th>\n",
       "      <th>Phone</th>\n",
       "      <th>Int'l Plan</th>\n",
       "      <th>VMail Plan</th>\n",
       "      <th>VMail Message</th>\n",
       "      <th>Day Mins</th>\n",
       "      <th>Day Calls</th>\n",
       "      <th>Day Charge</th>\n",
       "      <th>Eve Mins</th>\n",
       "      <th>Eve Calls</th>\n",
       "      <th>Eve Charge</th>\n",
       "      <th>Night Mins</th>\n",
       "      <th>Night Calls</th>\n",
       "      <th>Night Charge</th>\n",
       "      <th>Intl Mins</th>\n",
       "      <th>Intl Calls</th>\n",
       "      <th>Intl Charge</th>\n",
       "      <th>CustServ Calls</th>\n",
       "      <th>Churn?</th>\n",
       "    </tr>\n",
       "  </thead>\n",
       "  <tbody>\n",
       "    <tr>\n",
       "      <th>3328</th>\n",
       "      <td>AZ</td>\n",
       "      <td>192</td>\n",
       "      <td>415</td>\n",
       "      <td>414-4276</td>\n",
       "      <td>no</td>\n",
       "      <td>yes</td>\n",
       "      <td>36</td>\n",
       "      <td>156.2</td>\n",
       "      <td>77</td>\n",
       "      <td>26.55</td>\n",
       "      <td>215.5</td>\n",
       "      <td>126</td>\n",
       "      <td>18.32</td>\n",
       "      <td>279.1</td>\n",
       "      <td>83</td>\n",
       "      <td>12.56</td>\n",
       "      <td>9.9</td>\n",
       "      <td>6</td>\n",
       "      <td>2.67</td>\n",
       "      <td>2</td>\n",
       "      <td>False.</td>\n",
       "    </tr>\n",
       "    <tr>\n",
       "      <th>3329</th>\n",
       "      <td>WV</td>\n",
       "      <td>68</td>\n",
       "      <td>415</td>\n",
       "      <td>370-3271</td>\n",
       "      <td>no</td>\n",
       "      <td>no</td>\n",
       "      <td>0</td>\n",
       "      <td>231.1</td>\n",
       "      <td>57</td>\n",
       "      <td>39.29</td>\n",
       "      <td>153.4</td>\n",
       "      <td>55</td>\n",
       "      <td>13.04</td>\n",
       "      <td>191.3</td>\n",
       "      <td>123</td>\n",
       "      <td>8.61</td>\n",
       "      <td>9.6</td>\n",
       "      <td>4</td>\n",
       "      <td>2.59</td>\n",
       "      <td>3</td>\n",
       "      <td>False.</td>\n",
       "    </tr>\n",
       "    <tr>\n",
       "      <th>3330</th>\n",
       "      <td>RI</td>\n",
       "      <td>28</td>\n",
       "      <td>510</td>\n",
       "      <td>328-8230</td>\n",
       "      <td>no</td>\n",
       "      <td>no</td>\n",
       "      <td>0</td>\n",
       "      <td>180.8</td>\n",
       "      <td>109</td>\n",
       "      <td>30.74</td>\n",
       "      <td>288.8</td>\n",
       "      <td>58</td>\n",
       "      <td>24.55</td>\n",
       "      <td>191.9</td>\n",
       "      <td>91</td>\n",
       "      <td>8.64</td>\n",
       "      <td>14.1</td>\n",
       "      <td>6</td>\n",
       "      <td>3.81</td>\n",
       "      <td>2</td>\n",
       "      <td>False.</td>\n",
       "    </tr>\n",
       "    <tr>\n",
       "      <th>3331</th>\n",
       "      <td>CT</td>\n",
       "      <td>184</td>\n",
       "      <td>510</td>\n",
       "      <td>364-6381</td>\n",
       "      <td>yes</td>\n",
       "      <td>no</td>\n",
       "      <td>0</td>\n",
       "      <td>213.8</td>\n",
       "      <td>105</td>\n",
       "      <td>36.35</td>\n",
       "      <td>159.6</td>\n",
       "      <td>84</td>\n",
       "      <td>13.57</td>\n",
       "      <td>139.2</td>\n",
       "      <td>137</td>\n",
       "      <td>6.26</td>\n",
       "      <td>5.0</td>\n",
       "      <td>10</td>\n",
       "      <td>1.35</td>\n",
       "      <td>2</td>\n",
       "      <td>False.</td>\n",
       "    </tr>\n",
       "    <tr>\n",
       "      <th>3332</th>\n",
       "      <td>TN</td>\n",
       "      <td>74</td>\n",
       "      <td>415</td>\n",
       "      <td>400-4344</td>\n",
       "      <td>no</td>\n",
       "      <td>yes</td>\n",
       "      <td>25</td>\n",
       "      <td>234.4</td>\n",
       "      <td>113</td>\n",
       "      <td>39.85</td>\n",
       "      <td>265.9</td>\n",
       "      <td>82</td>\n",
       "      <td>22.60</td>\n",
       "      <td>241.4</td>\n",
       "      <td>77</td>\n",
       "      <td>10.86</td>\n",
       "      <td>13.7</td>\n",
       "      <td>4</td>\n",
       "      <td>3.70</td>\n",
       "      <td>0</td>\n",
       "      <td>False.</td>\n",
       "    </tr>\n",
       "  </tbody>\n",
       "</table>\n",
       "</div>"
      ],
      "text/plain": [
       "     State  Account Length  Area Code     Phone Int'l Plan VMail Plan  VMail Message  Day Mins  Day Calls  Day Charge  Eve Mins  Eve Calls  Eve Charge  Night Mins  Night Calls  Night Charge  Intl Mins  Intl Calls  Intl Charge  CustServ Calls  Churn?\n",
       "3328    AZ             192        415  414-4276         no        yes             36     156.2         77       26.55     215.5        126       18.32       279.1           83         12.56        9.9           6         2.67               2  False.\n",
       "3329    WV              68        415  370-3271         no         no              0     231.1         57       39.29     153.4         55       13.04       191.3          123          8.61        9.6           4         2.59               3  False.\n",
       "3330    RI              28        510  328-8230         no         no              0     180.8        109       30.74     288.8         58       24.55       191.9           91          8.64       14.1           6         3.81               2  False.\n",
       "3331    CT             184        510  364-6381        yes         no              0     213.8        105       36.35     159.6         84       13.57       139.2          137          6.26        5.0          10         1.35               2  False.\n",
       "3332    TN              74        415  400-4344         no        yes             25     234.4        113       39.85     265.9         82       22.60       241.4           77         10.86       13.7           4         3.70               0  False."
      ]
     },
     "execution_count": 5,
     "metadata": {},
     "output_type": "execute_result"
    }
   ],
   "source": [
    "data_original.tail()"
   ]
  },
  {
   "cell_type": "markdown",
   "metadata": {},
   "source": [
    "Finally we load the necessary `scikit-learn` modules for our experiments."
   ]
  },
  {
   "cell_type": "code",
   "execution_count": 6,
   "metadata": {
    "collapsed": true
   },
   "outputs": [],
   "source": [
    "from sklearn.cross_validation import train_test_split"
   ]
  },
  {
   "cell_type": "markdown",
   "metadata": {},
   "source": [
    "***\n",
    "\n",
    "## Step 1: Loading and pre-processing the data\n",
    "\n",
    "Obvious step! I will load the data and preprocess it to build the models."
   ]
  },
  {
   "cell_type": "code",
   "execution_count": 7,
   "metadata": {
    "collapsed": false
   },
   "outputs": [
    {
     "name": "stdout",
     "output_type": "stream",
     "text": [
      "<class 'pandas.core.frame.DataFrame'>\n",
      "Int64Index: 3333 entries, 0 to 3332\n",
      "Data columns (total 21 columns):\n",
      "State             3333 non-null object\n",
      "Account Length    3333 non-null int64\n",
      "Area Code         3333 non-null int64\n",
      "Phone             3333 non-null object\n",
      "Int'l Plan        3333 non-null object\n",
      "VMail Plan        3333 non-null object\n",
      "VMail Message     3333 non-null int64\n",
      "Day Mins          3333 non-null float64\n",
      "Day Calls         3333 non-null int64\n",
      "Day Charge        3333 non-null float64\n",
      "Eve Mins          3333 non-null float64\n",
      "Eve Calls         3333 non-null int64\n",
      "Eve Charge        3333 non-null float64\n",
      "Night Mins        3333 non-null float64\n",
      "Night Calls       3333 non-null int64\n",
      "Night Charge      3333 non-null float64\n",
      "Intl Mins         3333 non-null float64\n",
      "Intl Calls        3333 non-null int64\n",
      "Intl Charge       3333 non-null float64\n",
      "CustServ Calls    3333 non-null int64\n",
      "Churn?            3333 non-null object\n",
      "dtypes: float64(8), int64(8), object(5)\n",
      "memory usage: 572.9+ KB\n"
     ]
    }
   ],
   "source": [
    "data_original.info()"
   ]
  },
  {
   "cell_type": "markdown",
   "metadata": {},
   "source": [
    "As we can see, we have 3333 customers and 21 attributes. We also have no missing values which will greatly help us in our predictions. We also have a lot of categorical attributes that need to be converted into dummy variables."
   ]
  },
  {
   "cell_type": "code",
   "execution_count": 8,
   "metadata": {
    "collapsed": true
   },
   "outputs": [],
   "source": [
    "data = data_original"
   ]
  },
  {
   "cell_type": "markdown",
   "metadata": {},
   "source": [
    "***\n",
    "\n",
    "### Remove unneccessary attributes\n",
    "\n",
    "**Phone** number is not useful to make predictions. Let's remove it:"
   ]
  },
  {
   "cell_type": "code",
   "execution_count": 9,
   "metadata": {
    "collapsed": true
   },
   "outputs": [],
   "source": [
    "data = data.drop('Phone', axis = 1)"
   ]
  },
  {
   "cell_type": "markdown",
   "metadata": {},
   "source": [
    "***\n",
    "\n",
    "### Convert boolean attributes to 0/1\n",
    "\n",
    "Attributes like **Int'l Plan**, **VMail Plan** and **Churn?** are boolean attributes expressed as strings. I will convert them to 0/1 values using transformations:"
   ]
  },
  {
   "cell_type": "code",
   "execution_count": 10,
   "metadata": {
    "collapsed": true
   },
   "outputs": [],
   "source": [
    "data[\"Int'l Plan\"] = (data_original[\"Int'l Plan\"] == 'yes').astype(int)\n",
    "data[\"VMail Plan\"] = (data_original[\"VMail Plan\"] == 'yes').astype(int)\n",
    "data[\"Churn?\"] = (data_original[\"Churn?\"] == 'True.').astype(int)"
   ]
  },
  {
   "cell_type": "code",
   "execution_count": 11,
   "metadata": {
    "collapsed": false
   },
   "outputs": [
    {
     "data": {
      "text/html": [
       "<div>\n",
       "<table border=\"1\" class=\"dataframe\">\n",
       "  <thead>\n",
       "    <tr style=\"text-align: right;\">\n",
       "      <th></th>\n",
       "      <th>State</th>\n",
       "      <th>Account Length</th>\n",
       "      <th>Area Code</th>\n",
       "      <th>Int'l Plan</th>\n",
       "      <th>VMail Plan</th>\n",
       "      <th>VMail Message</th>\n",
       "      <th>Day Mins</th>\n",
       "      <th>Day Calls</th>\n",
       "      <th>Day Charge</th>\n",
       "      <th>Eve Mins</th>\n",
       "      <th>Eve Calls</th>\n",
       "      <th>Eve Charge</th>\n",
       "      <th>Night Mins</th>\n",
       "      <th>Night Calls</th>\n",
       "      <th>Night Charge</th>\n",
       "      <th>Intl Mins</th>\n",
       "      <th>Intl Calls</th>\n",
       "      <th>Intl Charge</th>\n",
       "      <th>CustServ Calls</th>\n",
       "      <th>Churn?</th>\n",
       "    </tr>\n",
       "  </thead>\n",
       "  <tbody>\n",
       "    <tr>\n",
       "      <th>0</th>\n",
       "      <td>KS</td>\n",
       "      <td>128</td>\n",
       "      <td>415</td>\n",
       "      <td>0</td>\n",
       "      <td>1</td>\n",
       "      <td>25</td>\n",
       "      <td>265.1</td>\n",
       "      <td>110</td>\n",
       "      <td>45.07</td>\n",
       "      <td>197.4</td>\n",
       "      <td>99</td>\n",
       "      <td>16.78</td>\n",
       "      <td>244.7</td>\n",
       "      <td>91</td>\n",
       "      <td>11.01</td>\n",
       "      <td>10.0</td>\n",
       "      <td>3</td>\n",
       "      <td>2.70</td>\n",
       "      <td>1</td>\n",
       "      <td>0</td>\n",
       "    </tr>\n",
       "    <tr>\n",
       "      <th>1</th>\n",
       "      <td>OH</td>\n",
       "      <td>107</td>\n",
       "      <td>415</td>\n",
       "      <td>0</td>\n",
       "      <td>1</td>\n",
       "      <td>26</td>\n",
       "      <td>161.6</td>\n",
       "      <td>123</td>\n",
       "      <td>27.47</td>\n",
       "      <td>195.5</td>\n",
       "      <td>103</td>\n",
       "      <td>16.62</td>\n",
       "      <td>254.4</td>\n",
       "      <td>103</td>\n",
       "      <td>11.45</td>\n",
       "      <td>13.7</td>\n",
       "      <td>3</td>\n",
       "      <td>3.70</td>\n",
       "      <td>1</td>\n",
       "      <td>0</td>\n",
       "    </tr>\n",
       "    <tr>\n",
       "      <th>2</th>\n",
       "      <td>NJ</td>\n",
       "      <td>137</td>\n",
       "      <td>415</td>\n",
       "      <td>0</td>\n",
       "      <td>0</td>\n",
       "      <td>0</td>\n",
       "      <td>243.4</td>\n",
       "      <td>114</td>\n",
       "      <td>41.38</td>\n",
       "      <td>121.2</td>\n",
       "      <td>110</td>\n",
       "      <td>10.30</td>\n",
       "      <td>162.6</td>\n",
       "      <td>104</td>\n",
       "      <td>7.32</td>\n",
       "      <td>12.2</td>\n",
       "      <td>5</td>\n",
       "      <td>3.29</td>\n",
       "      <td>0</td>\n",
       "      <td>0</td>\n",
       "    </tr>\n",
       "    <tr>\n",
       "      <th>3</th>\n",
       "      <td>OH</td>\n",
       "      <td>84</td>\n",
       "      <td>408</td>\n",
       "      <td>1</td>\n",
       "      <td>0</td>\n",
       "      <td>0</td>\n",
       "      <td>299.4</td>\n",
       "      <td>71</td>\n",
       "      <td>50.90</td>\n",
       "      <td>61.9</td>\n",
       "      <td>88</td>\n",
       "      <td>5.26</td>\n",
       "      <td>196.9</td>\n",
       "      <td>89</td>\n",
       "      <td>8.86</td>\n",
       "      <td>6.6</td>\n",
       "      <td>7</td>\n",
       "      <td>1.78</td>\n",
       "      <td>2</td>\n",
       "      <td>0</td>\n",
       "    </tr>\n",
       "    <tr>\n",
       "      <th>4</th>\n",
       "      <td>OK</td>\n",
       "      <td>75</td>\n",
       "      <td>415</td>\n",
       "      <td>1</td>\n",
       "      <td>0</td>\n",
       "      <td>0</td>\n",
       "      <td>166.7</td>\n",
       "      <td>113</td>\n",
       "      <td>28.34</td>\n",
       "      <td>148.3</td>\n",
       "      <td>122</td>\n",
       "      <td>12.61</td>\n",
       "      <td>186.9</td>\n",
       "      <td>121</td>\n",
       "      <td>8.41</td>\n",
       "      <td>10.1</td>\n",
       "      <td>3</td>\n",
       "      <td>2.73</td>\n",
       "      <td>3</td>\n",
       "      <td>0</td>\n",
       "    </tr>\n",
       "  </tbody>\n",
       "</table>\n",
       "</div>"
      ],
      "text/plain": [
       "  State  Account Length  Area Code  Int'l Plan  VMail Plan  VMail Message  Day Mins  Day Calls  Day Charge  Eve Mins  Eve Calls  Eve Charge  Night Mins  Night Calls  Night Charge  Intl Mins  Intl Calls  Intl Charge  CustServ Calls  Churn?\n",
       "0    KS             128        415           0           1             25     265.1        110       45.07     197.4         99       16.78       244.7           91         11.01       10.0           3         2.70               1       0\n",
       "1    OH             107        415           0           1             26     161.6        123       27.47     195.5        103       16.62       254.4          103         11.45       13.7           3         3.70               1       0\n",
       "2    NJ             137        415           0           0              0     243.4        114       41.38     121.2        110       10.30       162.6          104          7.32       12.2           5         3.29               0       0\n",
       "3    OH              84        408           1           0              0     299.4         71       50.90      61.9         88        5.26       196.9           89          8.86        6.6           7         1.78               2       0\n",
       "4    OK              75        415           1           0              0     166.7        113       28.34     148.3        122       12.61       186.9          121          8.41       10.1           3         2.73               3       0"
      ]
     },
     "execution_count": 11,
     "metadata": {},
     "output_type": "execute_result"
    }
   ],
   "source": [
    "data.head()"
   ]
  },
  {
   "cell_type": "markdown",
   "metadata": {},
   "source": [
    "***\n",
    "\n",
    "### Convert categorical attributes to dummy variables\n",
    "\n",
    "**State** and **Area Code** are categorical attributes. We can see how many unique values are included:"
   ]
  },
  {
   "cell_type": "code",
   "execution_count": 12,
   "metadata": {
    "collapsed": false
   },
   "outputs": [
    {
     "name": "stdout",
     "output_type": "stream",
     "text": [
      "51 unique States\n",
      "3 unique Area Codes\n"
     ]
    }
   ],
   "source": [
    "# How many different values are in State and Area Code categorical attributes\n",
    "print str(len(data['State'].unique())) + \" unique States\"\n",
    "print str(len(data['Area Code'].unique())) + \" unique Area Codes\""
   ]
  },
  {
   "cell_type": "code",
   "execution_count": 13,
   "metadata": {
    "collapsed": false
   },
   "outputs": [],
   "source": [
    "# Generate the dummy variables\n",
    "dummy_states = pd.get_dummies(data['State'], prefix = 'State')\n",
    "dummy_area_codes = pd.get_dummies(data['Area Code'], prefix = 'Area_Code')"
   ]
  },
  {
   "cell_type": "code",
   "execution_count": 14,
   "metadata": {
    "collapsed": false
   },
   "outputs": [],
   "source": [
    "# Join the new dummy variables to the data\n",
    "data = data.join(dummy_states)\n",
    "data = data.join(dummy_area_codes)"
   ]
  },
  {
   "cell_type": "code",
   "execution_count": 15,
   "metadata": {
    "collapsed": true
   },
   "outputs": [],
   "source": [
    "# Drop the old categorical attributes\n",
    "data = data.drop('State', axis = 1)\n",
    "data = data.drop('Area Code', axis = 1)"
   ]
  },
  {
   "cell_type": "code",
   "execution_count": 16,
   "metadata": {
    "collapsed": false
   },
   "outputs": [
    {
     "data": {
      "text/html": [
       "<div>\n",
       "<table border=\"1\" class=\"dataframe\">\n",
       "  <thead>\n",
       "    <tr style=\"text-align: right;\">\n",
       "      <th></th>\n",
       "      <th>Account Length</th>\n",
       "      <th>Int'l Plan</th>\n",
       "      <th>VMail Plan</th>\n",
       "      <th>VMail Message</th>\n",
       "      <th>Day Mins</th>\n",
       "      <th>Day Calls</th>\n",
       "      <th>Day Charge</th>\n",
       "      <th>Eve Mins</th>\n",
       "      <th>Eve Calls</th>\n",
       "      <th>Eve Charge</th>\n",
       "      <th>Night Mins</th>\n",
       "      <th>Night Calls</th>\n",
       "      <th>Night Charge</th>\n",
       "      <th>Intl Mins</th>\n",
       "      <th>Intl Calls</th>\n",
       "      <th>Intl Charge</th>\n",
       "      <th>CustServ Calls</th>\n",
       "      <th>Churn?</th>\n",
       "      <th>State_AK</th>\n",
       "      <th>State_AL</th>\n",
       "      <th>State_AR</th>\n",
       "      <th>State_AZ</th>\n",
       "      <th>State_CA</th>\n",
       "      <th>State_CO</th>\n",
       "      <th>State_CT</th>\n",
       "      <th>State_DC</th>\n",
       "      <th>State_DE</th>\n",
       "      <th>State_FL</th>\n",
       "      <th>State_GA</th>\n",
       "      <th>State_HI</th>\n",
       "      <th>State_IA</th>\n",
       "      <th>State_ID</th>\n",
       "      <th>State_IL</th>\n",
       "      <th>State_IN</th>\n",
       "      <th>State_KS</th>\n",
       "      <th>State_KY</th>\n",
       "      <th>State_LA</th>\n",
       "      <th>State_MA</th>\n",
       "      <th>State_MD</th>\n",
       "      <th>State_ME</th>\n",
       "      <th>State_MI</th>\n",
       "      <th>State_MN</th>\n",
       "      <th>State_MO</th>\n",
       "      <th>State_MS</th>\n",
       "      <th>State_MT</th>\n",
       "      <th>State_NC</th>\n",
       "      <th>State_ND</th>\n",
       "      <th>State_NE</th>\n",
       "      <th>State_NH</th>\n",
       "      <th>State_NJ</th>\n",
       "      <th>State_NM</th>\n",
       "      <th>State_NV</th>\n",
       "      <th>State_NY</th>\n",
       "      <th>State_OH</th>\n",
       "      <th>State_OK</th>\n",
       "      <th>State_OR</th>\n",
       "      <th>State_PA</th>\n",
       "      <th>State_RI</th>\n",
       "      <th>State_SC</th>\n",
       "      <th>State_SD</th>\n",
       "      <th>State_TN</th>\n",
       "      <th>State_TX</th>\n",
       "      <th>State_UT</th>\n",
       "      <th>State_VA</th>\n",
       "      <th>State_VT</th>\n",
       "      <th>State_WA</th>\n",
       "      <th>State_WI</th>\n",
       "      <th>State_WV</th>\n",
       "      <th>State_WY</th>\n",
       "      <th>Area_Code_408</th>\n",
       "      <th>Area_Code_415</th>\n",
       "      <th>Area_Code_510</th>\n",
       "    </tr>\n",
       "  </thead>\n",
       "  <tbody>\n",
       "    <tr>\n",
       "      <th>0</th>\n",
       "      <td>128</td>\n",
       "      <td>0</td>\n",
       "      <td>1</td>\n",
       "      <td>25</td>\n",
       "      <td>265.1</td>\n",
       "      <td>110</td>\n",
       "      <td>45.07</td>\n",
       "      <td>197.4</td>\n",
       "      <td>99</td>\n",
       "      <td>16.78</td>\n",
       "      <td>244.7</td>\n",
       "      <td>91</td>\n",
       "      <td>11.01</td>\n",
       "      <td>10.0</td>\n",
       "      <td>3</td>\n",
       "      <td>2.70</td>\n",
       "      <td>1</td>\n",
       "      <td>0</td>\n",
       "      <td>0</td>\n",
       "      <td>0</td>\n",
       "      <td>0</td>\n",
       "      <td>0</td>\n",
       "      <td>0</td>\n",
       "      <td>0</td>\n",
       "      <td>0</td>\n",
       "      <td>0</td>\n",
       "      <td>0</td>\n",
       "      <td>0</td>\n",
       "      <td>0</td>\n",
       "      <td>0</td>\n",
       "      <td>0</td>\n",
       "      <td>0</td>\n",
       "      <td>0</td>\n",
       "      <td>0</td>\n",
       "      <td>1</td>\n",
       "      <td>0</td>\n",
       "      <td>0</td>\n",
       "      <td>0</td>\n",
       "      <td>0</td>\n",
       "      <td>0</td>\n",
       "      <td>0</td>\n",
       "      <td>0</td>\n",
       "      <td>0</td>\n",
       "      <td>0</td>\n",
       "      <td>0</td>\n",
       "      <td>0</td>\n",
       "      <td>0</td>\n",
       "      <td>0</td>\n",
       "      <td>0</td>\n",
       "      <td>0</td>\n",
       "      <td>0</td>\n",
       "      <td>0</td>\n",
       "      <td>0</td>\n",
       "      <td>0</td>\n",
       "      <td>0</td>\n",
       "      <td>0</td>\n",
       "      <td>0</td>\n",
       "      <td>0</td>\n",
       "      <td>0</td>\n",
       "      <td>0</td>\n",
       "      <td>0</td>\n",
       "      <td>0</td>\n",
       "      <td>0</td>\n",
       "      <td>0</td>\n",
       "      <td>0</td>\n",
       "      <td>0</td>\n",
       "      <td>0</td>\n",
       "      <td>0</td>\n",
       "      <td>0</td>\n",
       "      <td>0</td>\n",
       "      <td>1</td>\n",
       "      <td>0</td>\n",
       "    </tr>\n",
       "    <tr>\n",
       "      <th>1</th>\n",
       "      <td>107</td>\n",
       "      <td>0</td>\n",
       "      <td>1</td>\n",
       "      <td>26</td>\n",
       "      <td>161.6</td>\n",
       "      <td>123</td>\n",
       "      <td>27.47</td>\n",
       "      <td>195.5</td>\n",
       "      <td>103</td>\n",
       "      <td>16.62</td>\n",
       "      <td>254.4</td>\n",
       "      <td>103</td>\n",
       "      <td>11.45</td>\n",
       "      <td>13.7</td>\n",
       "      <td>3</td>\n",
       "      <td>3.70</td>\n",
       "      <td>1</td>\n",
       "      <td>0</td>\n",
       "      <td>0</td>\n",
       "      <td>0</td>\n",
       "      <td>0</td>\n",
       "      <td>0</td>\n",
       "      <td>0</td>\n",
       "      <td>0</td>\n",
       "      <td>0</td>\n",
       "      <td>0</td>\n",
       "      <td>0</td>\n",
       "      <td>0</td>\n",
       "      <td>0</td>\n",
       "      <td>0</td>\n",
       "      <td>0</td>\n",
       "      <td>0</td>\n",
       "      <td>0</td>\n",
       "      <td>0</td>\n",
       "      <td>0</td>\n",
       "      <td>0</td>\n",
       "      <td>0</td>\n",
       "      <td>0</td>\n",
       "      <td>0</td>\n",
       "      <td>0</td>\n",
       "      <td>0</td>\n",
       "      <td>0</td>\n",
       "      <td>0</td>\n",
       "      <td>0</td>\n",
       "      <td>0</td>\n",
       "      <td>0</td>\n",
       "      <td>0</td>\n",
       "      <td>0</td>\n",
       "      <td>0</td>\n",
       "      <td>0</td>\n",
       "      <td>0</td>\n",
       "      <td>0</td>\n",
       "      <td>0</td>\n",
       "      <td>1</td>\n",
       "      <td>0</td>\n",
       "      <td>0</td>\n",
       "      <td>0</td>\n",
       "      <td>0</td>\n",
       "      <td>0</td>\n",
       "      <td>0</td>\n",
       "      <td>0</td>\n",
       "      <td>0</td>\n",
       "      <td>0</td>\n",
       "      <td>0</td>\n",
       "      <td>0</td>\n",
       "      <td>0</td>\n",
       "      <td>0</td>\n",
       "      <td>0</td>\n",
       "      <td>0</td>\n",
       "      <td>0</td>\n",
       "      <td>1</td>\n",
       "      <td>0</td>\n",
       "    </tr>\n",
       "    <tr>\n",
       "      <th>2</th>\n",
       "      <td>137</td>\n",
       "      <td>0</td>\n",
       "      <td>0</td>\n",
       "      <td>0</td>\n",
       "      <td>243.4</td>\n",
       "      <td>114</td>\n",
       "      <td>41.38</td>\n",
       "      <td>121.2</td>\n",
       "      <td>110</td>\n",
       "      <td>10.30</td>\n",
       "      <td>162.6</td>\n",
       "      <td>104</td>\n",
       "      <td>7.32</td>\n",
       "      <td>12.2</td>\n",
       "      <td>5</td>\n",
       "      <td>3.29</td>\n",
       "      <td>0</td>\n",
       "      <td>0</td>\n",
       "      <td>0</td>\n",
       "      <td>0</td>\n",
       "      <td>0</td>\n",
       "      <td>0</td>\n",
       "      <td>0</td>\n",
       "      <td>0</td>\n",
       "      <td>0</td>\n",
       "      <td>0</td>\n",
       "      <td>0</td>\n",
       "      <td>0</td>\n",
       "      <td>0</td>\n",
       "      <td>0</td>\n",
       "      <td>0</td>\n",
       "      <td>0</td>\n",
       "      <td>0</td>\n",
       "      <td>0</td>\n",
       "      <td>0</td>\n",
       "      <td>0</td>\n",
       "      <td>0</td>\n",
       "      <td>0</td>\n",
       "      <td>0</td>\n",
       "      <td>0</td>\n",
       "      <td>0</td>\n",
       "      <td>0</td>\n",
       "      <td>0</td>\n",
       "      <td>0</td>\n",
       "      <td>0</td>\n",
       "      <td>0</td>\n",
       "      <td>0</td>\n",
       "      <td>0</td>\n",
       "      <td>0</td>\n",
       "      <td>1</td>\n",
       "      <td>0</td>\n",
       "      <td>0</td>\n",
       "      <td>0</td>\n",
       "      <td>0</td>\n",
       "      <td>0</td>\n",
       "      <td>0</td>\n",
       "      <td>0</td>\n",
       "      <td>0</td>\n",
       "      <td>0</td>\n",
       "      <td>0</td>\n",
       "      <td>0</td>\n",
       "      <td>0</td>\n",
       "      <td>0</td>\n",
       "      <td>0</td>\n",
       "      <td>0</td>\n",
       "      <td>0</td>\n",
       "      <td>0</td>\n",
       "      <td>0</td>\n",
       "      <td>0</td>\n",
       "      <td>0</td>\n",
       "      <td>1</td>\n",
       "      <td>0</td>\n",
       "    </tr>\n",
       "    <tr>\n",
       "      <th>3</th>\n",
       "      <td>84</td>\n",
       "      <td>1</td>\n",
       "      <td>0</td>\n",
       "      <td>0</td>\n",
       "      <td>299.4</td>\n",
       "      <td>71</td>\n",
       "      <td>50.90</td>\n",
       "      <td>61.9</td>\n",
       "      <td>88</td>\n",
       "      <td>5.26</td>\n",
       "      <td>196.9</td>\n",
       "      <td>89</td>\n",
       "      <td>8.86</td>\n",
       "      <td>6.6</td>\n",
       "      <td>7</td>\n",
       "      <td>1.78</td>\n",
       "      <td>2</td>\n",
       "      <td>0</td>\n",
       "      <td>0</td>\n",
       "      <td>0</td>\n",
       "      <td>0</td>\n",
       "      <td>0</td>\n",
       "      <td>0</td>\n",
       "      <td>0</td>\n",
       "      <td>0</td>\n",
       "      <td>0</td>\n",
       "      <td>0</td>\n",
       "      <td>0</td>\n",
       "      <td>0</td>\n",
       "      <td>0</td>\n",
       "      <td>0</td>\n",
       "      <td>0</td>\n",
       "      <td>0</td>\n",
       "      <td>0</td>\n",
       "      <td>0</td>\n",
       "      <td>0</td>\n",
       "      <td>0</td>\n",
       "      <td>0</td>\n",
       "      <td>0</td>\n",
       "      <td>0</td>\n",
       "      <td>0</td>\n",
       "      <td>0</td>\n",
       "      <td>0</td>\n",
       "      <td>0</td>\n",
       "      <td>0</td>\n",
       "      <td>0</td>\n",
       "      <td>0</td>\n",
       "      <td>0</td>\n",
       "      <td>0</td>\n",
       "      <td>0</td>\n",
       "      <td>0</td>\n",
       "      <td>0</td>\n",
       "      <td>0</td>\n",
       "      <td>1</td>\n",
       "      <td>0</td>\n",
       "      <td>0</td>\n",
       "      <td>0</td>\n",
       "      <td>0</td>\n",
       "      <td>0</td>\n",
       "      <td>0</td>\n",
       "      <td>0</td>\n",
       "      <td>0</td>\n",
       "      <td>0</td>\n",
       "      <td>0</td>\n",
       "      <td>0</td>\n",
       "      <td>0</td>\n",
       "      <td>0</td>\n",
       "      <td>0</td>\n",
       "      <td>0</td>\n",
       "      <td>1</td>\n",
       "      <td>0</td>\n",
       "      <td>0</td>\n",
       "    </tr>\n",
       "    <tr>\n",
       "      <th>4</th>\n",
       "      <td>75</td>\n",
       "      <td>1</td>\n",
       "      <td>0</td>\n",
       "      <td>0</td>\n",
       "      <td>166.7</td>\n",
       "      <td>113</td>\n",
       "      <td>28.34</td>\n",
       "      <td>148.3</td>\n",
       "      <td>122</td>\n",
       "      <td>12.61</td>\n",
       "      <td>186.9</td>\n",
       "      <td>121</td>\n",
       "      <td>8.41</td>\n",
       "      <td>10.1</td>\n",
       "      <td>3</td>\n",
       "      <td>2.73</td>\n",
       "      <td>3</td>\n",
       "      <td>0</td>\n",
       "      <td>0</td>\n",
       "      <td>0</td>\n",
       "      <td>0</td>\n",
       "      <td>0</td>\n",
       "      <td>0</td>\n",
       "      <td>0</td>\n",
       "      <td>0</td>\n",
       "      <td>0</td>\n",
       "      <td>0</td>\n",
       "      <td>0</td>\n",
       "      <td>0</td>\n",
       "      <td>0</td>\n",
       "      <td>0</td>\n",
       "      <td>0</td>\n",
       "      <td>0</td>\n",
       "      <td>0</td>\n",
       "      <td>0</td>\n",
       "      <td>0</td>\n",
       "      <td>0</td>\n",
       "      <td>0</td>\n",
       "      <td>0</td>\n",
       "      <td>0</td>\n",
       "      <td>0</td>\n",
       "      <td>0</td>\n",
       "      <td>0</td>\n",
       "      <td>0</td>\n",
       "      <td>0</td>\n",
       "      <td>0</td>\n",
       "      <td>0</td>\n",
       "      <td>0</td>\n",
       "      <td>0</td>\n",
       "      <td>0</td>\n",
       "      <td>0</td>\n",
       "      <td>0</td>\n",
       "      <td>0</td>\n",
       "      <td>0</td>\n",
       "      <td>1</td>\n",
       "      <td>0</td>\n",
       "      <td>0</td>\n",
       "      <td>0</td>\n",
       "      <td>0</td>\n",
       "      <td>0</td>\n",
       "      <td>0</td>\n",
       "      <td>0</td>\n",
       "      <td>0</td>\n",
       "      <td>0</td>\n",
       "      <td>0</td>\n",
       "      <td>0</td>\n",
       "      <td>0</td>\n",
       "      <td>0</td>\n",
       "      <td>0</td>\n",
       "      <td>0</td>\n",
       "      <td>1</td>\n",
       "      <td>0</td>\n",
       "    </tr>\n",
       "  </tbody>\n",
       "</table>\n",
       "</div>"
      ],
      "text/plain": [
       "   Account Length  Int'l Plan  VMail Plan  VMail Message  Day Mins  Day Calls  Day Charge  Eve Mins  Eve Calls  Eve Charge  Night Mins  Night Calls  Night Charge  Intl Mins  Intl Calls  Intl Charge  CustServ Calls  Churn?  State_AK  State_AL  State_AR  State_AZ  State_CA  State_CO  State_CT  State_DC  State_DE  State_FL  State_GA  State_HI  State_IA  State_ID  State_IL  State_IN  State_KS  State_KY  State_LA  State_MA  State_MD  State_ME  State_MI  State_MN  State_MO  State_MS  State_MT  \\\n",
       "0             128           0           1             25     265.1        110       45.07     197.4         99       16.78       244.7           91         11.01       10.0           3         2.70               1       0         0         0         0         0         0         0         0         0         0         0         0         0         0         0         0         0         1         0         0         0         0         0         0         0         0         0         0   \n",
       "1             107           0           1             26     161.6        123       27.47     195.5        103       16.62       254.4          103         11.45       13.7           3         3.70               1       0         0         0         0         0         0         0         0         0         0         0         0         0         0         0         0         0         0         0         0         0         0         0         0         0         0         0         0   \n",
       "2             137           0           0              0     243.4        114       41.38     121.2        110       10.30       162.6          104          7.32       12.2           5         3.29               0       0         0         0         0         0         0         0         0         0         0         0         0         0         0         0         0         0         0         0         0         0         0         0         0         0         0         0         0   \n",
       "3              84           1           0              0     299.4         71       50.90      61.9         88        5.26       196.9           89          8.86        6.6           7         1.78               2       0         0         0         0         0         0         0         0         0         0         0         0         0         0         0         0         0         0         0         0         0         0         0         0         0         0         0         0   \n",
       "4              75           1           0              0     166.7        113       28.34     148.3        122       12.61       186.9          121          8.41       10.1           3         2.73               3       0         0         0         0         0         0         0         0         0         0         0         0         0         0         0         0         0         0         0         0         0         0         0         0         0         0         0         0   \n",
       "\n",
       "   State_NC  State_ND  State_NE  State_NH  State_NJ  State_NM  State_NV  State_NY  State_OH  State_OK  State_OR  State_PA  State_RI  State_SC  State_SD  State_TN  State_TX  State_UT  State_VA  State_VT  State_WA  State_WI  State_WV  State_WY  Area_Code_408  Area_Code_415  Area_Code_510  \n",
       "0         0         0         0         0         0         0         0         0         0         0         0         0         0         0         0         0         0         0         0         0         0         0         0         0              0              1              0  \n",
       "1         0         0         0         0         0         0         0         0         1         0         0         0         0         0         0         0         0         0         0         0         0         0         0         0              0              1              0  \n",
       "2         0         0         0         0         1         0         0         0         0         0         0         0         0         0         0         0         0         0         0         0         0         0         0         0              0              1              0  \n",
       "3         0         0         0         0         0         0         0         0         1         0         0         0         0         0         0         0         0         0         0         0         0         0         0         0              1              0              0  \n",
       "4         0         0         0         0         0         0         0         0         0         1         0         0         0         0         0         0         0         0         0         0         0         0         0         0              0              1              0  "
      ]
     },
     "execution_count": 16,
     "metadata": {},
     "output_type": "execute_result"
    }
   ],
   "source": [
    "data.head()"
   ]
  },
  {
   "cell_type": "markdown",
   "metadata": {},
   "source": [
    "***\n",
    "\n",
    "### Last verification before splitting the data\n",
    "\n",
    "Now we should have only numerical values for all our attributes:"
   ]
  },
  {
   "cell_type": "code",
   "execution_count": 17,
   "metadata": {
    "collapsed": false
   },
   "outputs": [
    {
     "name": "stdout",
     "output_type": "stream",
     "text": [
      "<class 'pandas.core.frame.DataFrame'>\n",
      "Int64Index: 3333 entries, 0 to 3332\n",
      "Data columns (total 72 columns):\n",
      "Account Length    3333 non-null int64\n",
      "Int'l Plan        3333 non-null int64\n",
      "VMail Plan        3333 non-null int64\n",
      "VMail Message     3333 non-null int64\n",
      "Day Mins          3333 non-null float64\n",
      "Day Calls         3333 non-null int64\n",
      "Day Charge        3333 non-null float64\n",
      "Eve Mins          3333 non-null float64\n",
      "Eve Calls         3333 non-null int64\n",
      "Eve Charge        3333 non-null float64\n",
      "Night Mins        3333 non-null float64\n",
      "Night Calls       3333 non-null int64\n",
      "Night Charge      3333 non-null float64\n",
      "Intl Mins         3333 non-null float64\n",
      "Intl Calls        3333 non-null int64\n",
      "Intl Charge       3333 non-null float64\n",
      "CustServ Calls    3333 non-null int64\n",
      "Churn?            3333 non-null int64\n",
      "State_AK          3333 non-null float64\n",
      "State_AL          3333 non-null float64\n",
      "State_AR          3333 non-null float64\n",
      "State_AZ          3333 non-null float64\n",
      "State_CA          3333 non-null float64\n",
      "State_CO          3333 non-null float64\n",
      "State_CT          3333 non-null float64\n",
      "State_DC          3333 non-null float64\n",
      "State_DE          3333 non-null float64\n",
      "State_FL          3333 non-null float64\n",
      "State_GA          3333 non-null float64\n",
      "State_HI          3333 non-null float64\n",
      "State_IA          3333 non-null float64\n",
      "State_ID          3333 non-null float64\n",
      "State_IL          3333 non-null float64\n",
      "State_IN          3333 non-null float64\n",
      "State_KS          3333 non-null float64\n",
      "State_KY          3333 non-null float64\n",
      "State_LA          3333 non-null float64\n",
      "State_MA          3333 non-null float64\n",
      "State_MD          3333 non-null float64\n",
      "State_ME          3333 non-null float64\n",
      "State_MI          3333 non-null float64\n",
      "State_MN          3333 non-null float64\n",
      "State_MO          3333 non-null float64\n",
      "State_MS          3333 non-null float64\n",
      "State_MT          3333 non-null float64\n",
      "State_NC          3333 non-null float64\n",
      "State_ND          3333 non-null float64\n",
      "State_NE          3333 non-null float64\n",
      "State_NH          3333 non-null float64\n",
      "State_NJ          3333 non-null float64\n",
      "State_NM          3333 non-null float64\n",
      "State_NV          3333 non-null float64\n",
      "State_NY          3333 non-null float64\n",
      "State_OH          3333 non-null float64\n",
      "State_OK          3333 non-null float64\n",
      "State_OR          3333 non-null float64\n",
      "State_PA          3333 non-null float64\n",
      "State_RI          3333 non-null float64\n",
      "State_SC          3333 non-null float64\n",
      "State_SD          3333 non-null float64\n",
      "State_TN          3333 non-null float64\n",
      "State_TX          3333 non-null float64\n",
      "State_UT          3333 non-null float64\n",
      "State_VA          3333 non-null float64\n",
      "State_VT          3333 non-null float64\n",
      "State_WA          3333 non-null float64\n",
      "State_WI          3333 non-null float64\n",
      "State_WV          3333 non-null float64\n",
      "State_WY          3333 non-null float64\n",
      "Area_Code_408     3333 non-null float64\n",
      "Area_Code_415     3333 non-null float64\n",
      "Area_Code_510     3333 non-null float64\n",
      "dtypes: float64(62), int64(10)\n",
      "memory usage: 1.9 MB\n",
      "None\n"
     ]
    }
   ],
   "source": [
    "print data.info()"
   ]
  },
  {
   "cell_type": "markdown",
   "metadata": {},
   "source": [
    "We can now start working on our data, starting by splitting our dataset to a training and a testing datasets."
   ]
  },
  {
   "cell_type": "markdown",
   "metadata": {},
   "source": [
    "***\n",
    "\n",
    "### Splitting the data and saving it into CSV files\n",
    "\n",
    "We are now going to split our dataset into a training and a testing datasets. Let's split them so we have the _approximately_ the same ratio of churners in both the datasets."
   ]
  },
  {
   "cell_type": "code",
   "execution_count": 49,
   "metadata": {
    "collapsed": false
   },
   "outputs": [
    {
     "name": "stdout",
     "output_type": "stream",
     "text": [
      "Mean of Y = 0.144914491449\n"
     ]
    }
   ],
   "source": [
    "X = data.drop('Churn?', axis = 1)\n",
    "Y = data['Churn?']\n",
    "\n",
    "print \"Mean of Y = \" + str(np.mean(Y))"
   ]
  },
  {
   "cell_type": "markdown",
   "metadata": {},
   "source": [
    "In our full dataset, ~14.5% of customers are churners. We will try to split our data (80% training and 20% testing) in order to have approximately the same ratio in both training and testing."
   ]
  },
  {
   "cell_type": "code",
   "execution_count": 57,
   "metadata": {
    "collapsed": false
   },
   "outputs": [
    {
     "name": "stdout",
     "output_type": "stream",
     "text": [
      "Mean of Y = 0.144914491449\n",
      "Mean of Y_train = 0.145161290323\n",
      "Mean of Y_test = 0.143928035982\n",
      "epsilon = 0.00123325434057\n"
     ]
    }
   ],
   "source": [
    "X_train, X_test, Y_train, Y_test = train_test_split(X, Y, train_size = 0.8)\n",
    "epsilon = np.abs(np.mean(Y_train) - np.mean(Y_test))\n",
    "\n",
    "print \"Mean of Y = \" + str(np.mean(Y))\n",
    "print \"Mean of Y_train = \" + str(np.mean(Y_train))\n",
    "print \"Mean of Y_test = \" + str(np.mean(Y_test))\n",
    "print \"epsilon = \" + str(epsilon)"
   ]
  },
  {
   "cell_type": "markdown",
   "metadata": {},
   "source": [
    "_NOTA:_ Please note that you can have different splitting than mine if you run the previous split. In my case I had `epsilon = 0.001233` which means that the mean of both Y_test and Y_train and quite similar. This is good! Let's now save the splitting into two CSV files for future processing."
   ]
  },
  {
   "cell_type": "code",
   "execution_count": 58,
   "metadata": {
    "collapsed": true
   },
   "outputs": [],
   "source": [
    "# Reconstruct datasets\n",
    "#data_train = X_train.join(Y_train)\n",
    "#data_test = X_test.join(Y_test)\n",
    "\n",
    "# Save dataset in case we need to load them later (in another project)\n",
    "#data_train.to_csv('./data/data_train.csv', index = False)\n",
    "#data_test.to_csv('./data/data_test.csv', index = False)"
   ]
  },
  {
   "cell_type": "markdown",
   "metadata": {},
   "source": [
    "_NOTA:_ The previous code was commented because it needs to be run once. Datasets will be loaded from these CSV files and not generated each time. If you want to check my results, you can too load the datasets I generated, and located in `./data/data_train.csv` for the training dataset, and `./data/data_test.csv` for the testing dataset."
   ]
  },
  {
   "cell_type": "markdown",
   "metadata": {},
   "source": [
    "***\n",
    "\n",
    "## Step 2: Have a pause, breath, and think about data and strategy\n",
    "\n",
    "As we noticed in the previous step, the churn rate in this dataset is about 14.5%. This is an unbalenced dataset. A predictor that will predict no churn will have a 85.5% accuracy on predicting churns! Quite impressive for a dummy predictor. All the predictors than we will build should have an accuracy of more than 85.5%\n",
    "\n",
    "Don't forget that we have a lot of dummy variables: 15 numerical variables, 2 boolean variables and 54 dummy variables (51 only for representing the customer's state)."
   ]
  },
  {
   "cell_type": "code",
   "execution_count": 59,
   "metadata": {
    "collapsed": false
   },
   "outputs": [
    {
     "data": {
      "text/plain": [
       "72"
      ]
     },
     "execution_count": 59,
     "metadata": {},
     "output_type": "execute_result"
    }
   ],
   "source": [
    "# How many attributes we have for our modeling?\n",
    "len(data.columns)"
   ]
  },
  {
   "cell_type": "markdown",
   "metadata": {},
   "source": [
    "With 71 attributes to build a model, we will certainly need to perform feature reduction for our models (via feature selection or PCA).\n",
    "\n",
    "Finally, we need to remember that the probabilistic predictors of `scikit-learn` use a probability threshold of 0.5 for the final prediction. This needs to be taken into account and changed to reflect the unbalanced nature of the dataset. In the next sub-section, we will create some functions to help us take churn cost into account, and build a scoring function to be used when we build models."
   ]
  },
  {
   "cell_type": "markdown",
   "metadata": {},
   "source": [
    "***\n",
    "\n",
    "### Build helpers and the scoring function\n",
    "\n",
    "As we discussed in the introduction, we need in this study to take into account the business point of view. The real goal behind reducing customers churn is to reduce the loss of churn. In other words, we want to reduce the cost of churning customers.\n",
    "\n",
    "The predictive models that we are going to build will not be judged on their accuracy but on their ability to reduce churn cost per customer. Let's first introduce the confusion matrix of the cost relative to customers churn.\n",
    "\n",
    "We define:\n",
    "\n",
    "- True Positive (TP) as a customer that is predicted to churn and actually churns\n",
    "- True Negative (TN) as a customer that is predicted to not churn and that doesn't churn\n",
    "- False Positive (FP) as a customer that is predicted to churn and actually doesn't churn\n",
    "- False Negative (FN) as a customer that is predicted to not churn but actually churns\n",
    "\n",
    "To all the previous 4 categories are cost associated with them. But first, we suppose that the Life Time Value (LTV) of a customer is approximately \\$1,000 (3 years at ~\\$30/month subscription plan). This means that each customer that quit the company means \\$1,000 loss for the company.\n",
    "\n",
    "When a customer is detected as churning, we offer him an incentive of \\$100, to make him stay longer with the operator. This is a loss for the company of \\$100 that is less dramatic than loosing \\$1,000.\n",
    "\n",
    "Not all customers that are receiving the \\$100 offer will accept it. We suppose to have a $50\\%$ chance the customer accept the offer, which in term of mean loss, is \\$550 per customer that is detected to churn and decide to stay $0.5 \\times \\$1,000 + 0.5 \\times \\$100$.\n",
    "\n",
    "Here I summarize the churn costs in a confusion matrix way:\n",
    "\n",
    "- TP costs the company \\$550\n",
    "- TN costs the company \\$0\n",
    "- FP costs the company \\$100\n",
    "- FN costs the company \\$1,000\n",
    "\n",
    "Our ultimate predictor must minimize the total churn cost given the costs list below. For calculation convenience, we will devide the total cost by the number of customers and minimize the churn cost per customer (CCpC). Here is the pyhton function that we will use to calculate the CCpC given an estimator, the input/output values, and returns the minimum churn cost per customer, and the corresponding probability threshold:"
   ]
  },
  {
   "cell_type": "code",
   "execution_count": 118,
   "metadata": {
    "collapsed": true
   },
   "outputs": [],
   "source": [
    "#\n",
    "#   HELPERS\n",
    "#   Will be used for recusive calculations\n",
    "#\n",
    "\n",
    "cmc = np.array([[0, 1000], [100, 550]]) # Confusion matrix cost\n",
    "\n",
    "# Get the confusion matrix as costs\n",
    "def confusion_matrix_cost(Y_pred, Y_obs):\n",
    "    return confusion_matrix(Y_pred, Y_obs, labels = [0, 1]) * cmc\n",
    "\n",
    "# Calculate the total Churn Cost per Customer given Y predicted and observed\n",
    "def calculate_ccpc(Y_pred, Y_obs):\n",
    "    return np.sum( confusion_matrix_cost(Y_pred, Y_obs) ) / float(len(Y_obs))\n",
    "\n",
    "# Calculate accuracy by looking at the mean of correct predictions\n",
    "# Y observed and predicted can be given in any order\n",
    "def calculate_accuracy(Y_1, Y_2):\n",
    "    return np.mean(np.logical_not(np.logical_xor(Y_1, Y_2)).astype(int))"
   ]
  },
  {
   "cell_type": "markdown",
   "metadata": {},
   "source": [
    "To better judge on the churn costs per customer, let's consider two extreme cases: The first one is about a dummy estimator that predicts all customers are churning, and an other one with no customers churning."
   ]
  },
  {
   "cell_type": "code",
   "execution_count": 73,
   "metadata": {
    "collapsed": false
   },
   "outputs": [
    {
     "name": "stdout",
     "output_type": "stream",
     "text": [
      "Churn cost per customer All churn = 164.767616192\n",
      "Churn cost per customer No churn = 143.928035982\n"
     ]
    }
   ],
   "source": [
    "ccpc_all_churn = calculate_ccpc(np.ones(len(Y_test)), Y_test)\n",
    "ccpc_no_churn = calculate_ccpc(np.zeros(len(Y_test)), Y_test)\n",
    "\n",
    "print \"Churn cost per customer All churn = \" + str(ccpc_all_churn)\n",
    "print \"Churn cost per customer No churn = \" + str(ccpc_no_churn)"
   ]
  },
  {
   "cell_type": "markdown",
   "metadata": {},
   "source": [
    "Our estimators must do better than our dummy estimator (no one will churn), which lowers the churn cost per customer to \\$143.92\n",
    "\n",
    "Let's now create the scoring function for future use in `GridSearchCV`"
   ]
  },
  {
   "cell_type": "code",
   "execution_count": 91,
   "metadata": {
    "collapsed": true
   },
   "outputs": [],
   "source": [
    "# Predict churn given a probabilistic threshold t\n",
    "def predict_with_threshold(est, X, t = 0.5):\n",
    "    return (est.predict_proba(X)[:,1] >= t).astype(int)\n",
    "\n",
    "# Get the min churn cost per customer, and the associated probability threshold\n",
    "def churn_cost_per_customer_and_threshold(est, X, Y):\n",
    "    min_cost, optimal_t = np.max(cmc), 0\n",
    "    \n",
    "    for t in np.arange(0, 1.01, 0.01):\n",
    "        Y_predicted = predict_with_threshold(est, X, t)\n",
    "        ccpc = calculate_ccpc(Y_predicted, Y)\n",
    "        \n",
    "        if ccpc < min_cost:\n",
    "            min_cost = ccpc\n",
    "            optimal_t = t\n",
    "    \n",
    "    return min_cost, optimal_t\n",
    "\n",
    "# Only the churn cost per customer\n",
    "def churn_cost_per_customer(est, X, Y):\n",
    "    return churn_cost_per_customer_and_threshold(est, X, Y)[0]\n",
    "\n",
    "# Scorer used in GridSearchCV that minimizes the churn_cost_per_customer (=> maximize the inverse)\n",
    "def scorer_based_on_churn_cost_per_customer(est, X, Y):\n",
    "    return 1.0 / churn_cost_per_customer(est, X, Y)"
   ]
  },
  {
   "cell_type": "markdown",
   "metadata": {},
   "source": [
    "***\n",
    "\n",
    "## Step 3: Modeling Predictors\n",
    "\n",
    "In this section We're going to try different models and tune their hyperparameters to build the best predictors. But first let's load data from CSV files (training and testing):"
   ]
  },
  {
   "cell_type": "code",
   "execution_count": 79,
   "metadata": {
    "collapsed": true
   },
   "outputs": [],
   "source": [
    "data_train = pd.read_csv('./data/data_train.csv')\n",
    "data_test = pd.read_csv('./data/data_test.csv')\n",
    "\n",
    "X_train, Y_train = data_train.drop('Churn?', axis = 1), data_train['Churn?']\n",
    "X_test, Y_test = data_test.drop('Churn?', axis = 1), data_test['Churn?']"
   ]
  },
  {
   "cell_type": "markdown",
   "metadata": {},
   "source": [
    "### 3.1. Logistic Regression\n",
    "\n",
    "The first probabilistic model we will build is Logistic Regression. We will use Grid Search Cross Validation on the training dataset to build the optimal hyperparameters of the predictor."
   ]
  },
  {
   "cell_type": "code",
   "execution_count": 80,
   "metadata": {
    "collapsed": true
   },
   "outputs": [],
   "source": [
    "from sklearn.linear_model import LogisticRegression"
   ]
  },
  {
   "cell_type": "code",
   "execution_count": 81,
   "metadata": {
    "collapsed": false
   },
   "outputs": [],
   "source": [
    "lr_cf = LogisticRegression() # Logistic Regression Classifier\n",
    "\n",
    "lr_gs = GridSearchCV(lr_cf, param_grid = {'C': [10**i for i in range(-3, 3)], 'penalty': ['l1', 'l2']}, cv = 5)\n",
    "\n",
    "lr_gs.fit(X_train, Y_train)\n",
    "\n",
    "lr_est = lr_gs.best_estimator_"
   ]
  },
  {
   "cell_type": "code",
   "execution_count": 82,
   "metadata": {
    "collapsed": false
   },
   "outputs": [
    {
     "name": "stdout",
     "output_type": "stream",
     "text": [
      "Using LR params {'penalty': 'l2', 'C': 100} produce the best model accuracy: 0.863841\n"
     ]
    }
   ],
   "source": [
    "print \"Using LR params %s produce the best model accuracy: %f\" % (lr_gs.best_params_, lr_gs.best_score_)"
   ]
  },
  {
   "cell_type": "code",
   "execution_count": 83,
   "metadata": {
    "collapsed": false
   },
   "outputs": [
    {
     "name": "stdout",
     "output_type": "stream",
     "text": [
      "Accuracy on training data = 0.872093\n",
      "Accuracy on test data = 0.857571\n"
     ]
    }
   ],
   "source": [
    "print \"Accuracy on training data = %f\" % lr_est.score(X_train, Y_train)\n",
    "print \"Accuracy on test data = %f\" % lr_est.score(X_test, Y_test)"
   ]
  },
  {
   "cell_type": "markdown",
   "metadata": {},
   "source": [
    "Ouch! The accuracy of our estimator on the test dataset is aproximately the same as our dummy estimator... This means that even with the optimal hyperparameters of our logistic regression model, we did worse than just predicting all customers as not churning (our dummy estimator)! So, what is the problem here?\n",
    "\n",
    "The problem comes from the accuracy of the prediction, that uses a probability threshold of 0.5 in an unbalanced dataset. What we should do instead is look at the probability threshold that maximizes accuracy.\n",
    "\n",
    "This is what we are going to do, by plotting the evolution of our LR estimator (with hyperparameters as found with grid search) on different probability thresholds."
   ]
  },
  {
   "cell_type": "code",
   "execution_count": 84,
   "metadata": {
    "collapsed": false
   },
   "outputs": [],
   "source": [
    "prob_churn = lr_est.predict_proba(X_test)[:,1] # Probabilities to churn"
   ]
  },
  {
   "cell_type": "code",
   "execution_count": 85,
   "metadata": {
    "collapsed": false
   },
   "outputs": [],
   "source": [
    "thresholds = np.arange(0, 1.01, 0.01) # The prob. thresholds\n",
    "scores = []\n",
    "\n",
    "for t in thresholds:\n",
    "    Y_predicted = predict_with_threshold(lr_est, X_test, t)\n",
    "    right_predictions = (Y_predicted == Y_test.values)\n",
    "    scores.append( np.mean(right_predictions.astype(int)) )"
   ]
  },
  {
   "cell_type": "code",
   "execution_count": 101,
   "metadata": {
    "collapsed": false
   },
   "outputs": [
    {
     "name": "stdout",
     "output_type": "stream",
     "text": [
      "Max accuracy occurs at probability threshold 0.62, with score of 0.87\n"
     ]
    }
   ],
   "source": [
    "# Getting the threshold that maximizes the score\n",
    "max_score, max_score_threshold = np.max(scores), thresholds[np.argmax(scores)]\n",
    "print \"Max accuracy occurs at probability threshold %0.2f, with score of %0.2f\" % (max_score_threshold, max_score)"
   ]
  },
  {
   "cell_type": "code",
   "execution_count": 110,
   "metadata": {
    "collapsed": false
   },
   "outputs": [
    {
     "data": {
      "image/png": "[encoded data removed]",
      "text/plain": [
       "<matplotlib.figure.Figure at 0x11efefe90>"
      ]
     },
     "metadata": {},
     "output_type": "display_data"
    }
   ],
   "source": [
    "plt.plot(thresholds, scores, label = 'Evolution of score')\n",
    "plt.plot([0, max_score_threshold], [max_score, max_score], color = 'r', alpha = 0.2, label = 'Max score')\n",
    "plt.plot([max_score_threshold, max_score_threshold], [0, max_score], 'r--', alpha = 0.2)\n",
    "plt.plot([max_score_threshold], [max_score], 'bo')\n",
    "plt.legend()\n",
    "plt.ylim(0, 1)\n",
    "plt.xlabel('Probability Threshold')\n",
    "plt.ylabel('Model accuracy')\n",
    "plt.title('Evolution of model accuracy depending on probability threshold')\n",
    "plt.show()"
   ]
  },
  {
   "cell_type": "markdown",
   "metadata": {},
   "source": [
    "Using this max value of accuracy, let's see what is the churn cost per costomer:"
   ]
  },
  {
   "cell_type": "code",
   "execution_count": 111,
   "metadata": {
    "collapsed": false
   },
   "outputs": [
    {
     "data": {
      "text/plain": [
       "135.15742128935531"
      ]
     },
     "execution_count": 111,
     "metadata": {},
     "output_type": "execute_result"
    }
   ],
   "source": [
    "calculate_ccpc(predict_with_threshold(lr_est, X_test, max_score_threshold), Y_test)"
   ]
  },
  {
   "cell_type": "markdown",
   "metadata": {},
   "source": [
    "This is the churn cost per customer of our LR estimator when it is build only considering the best accuracy possible.\n",
    "\n",
    "Let's now use the churn cost per customer to find the best estimator."
   ]
  },
  {
   "cell_type": "code",
   "execution_count": 88,
   "metadata": {
    "collapsed": false
   },
   "outputs": [],
   "source": [
    "lr_gs = GridSearchCV(lr_cf, param_grid = {'C': [10**i for i in range(-3, 3)], 'penalty': ['l1', 'l2']}, cv = 5, scoring = scorer_based_on_churn_cost_per_customer)\n",
    "\n",
    "lr_gs.fit(X_train, Y_train)\n",
    "\n",
    "lr_est = lr_gs.best_estimator_"
   ]
  },
  {
   "cell_type": "markdown",
   "metadata": {},
   "source": [
    "This produced a new estimator with the following hyperparameters."
   ]
  },
  {
   "cell_type": "code",
   "execution_count": 89,
   "metadata": {
    "collapsed": false
   },
   "outputs": [
    {
     "name": "stdout",
     "output_type": "stream",
     "text": [
      "Using LR params {'penalty': 'l1', 'C': 1} help get the minimum CCpC\n"
     ]
    }
   ],
   "source": [
    "print \"Using LR params %s help get the minimum CCpC\" % lr_gs.best_params_"
   ]
  },
  {
   "cell_type": "markdown",
   "metadata": {},
   "source": [
    "This is clearly a different estimator. But when we calculate the churn cost per customer, we get the following:"
   ]
  },
  {
   "cell_type": "code",
   "execution_count": 122,
   "metadata": {
    "collapsed": false
   },
   "outputs": [
    {
     "name": "stdout",
     "output_type": "stream",
     "text": [
      "The lowest churn cost per customer is $121.44, using probability threshold of 0.13\n"
     ]
    }
   ],
   "source": [
    "new_ccpc, t_with_lowest_ccpc = churn_cost_per_customer_and_threshold(lr_est, X_test, Y_test)\n",
    "print \"The lowest churn cost per customer is $%4.2f, using probability threshold of %0.2f\" % (new_ccpc, t_with_lowest_ccpc)"
   ]
  },
  {
   "cell_type": "markdown",
   "metadata": {},
   "source": [
    "Clearly a lower churn cost per customer than the previous LR model. We've got this by lowering the probability threshold to 0.13! Nice job. What is the accuracy of this model?"
   ]
  },
  {
   "cell_type": "code",
   "execution_count": 124,
   "metadata": {
    "collapsed": false
   },
   "outputs": [
    {
     "data": {
      "text/plain": [
       "0.74512743628185907"
      ]
     },
     "execution_count": 124,
     "metadata": {},
     "output_type": "execute_result"
    }
   ],
   "source": [
    "Y_test_redicted = predict_with_threshold(lr_est, X_test, t_with_lowest_ccpc)\n",
    "calculate_accuracy(Y_test_redicted, Y_test)"
   ]
  },
  {
   "cell_type": "markdown",
   "metadata": {},
   "source": [
    "Interesting! Even if we have an accuracy that is lower than our dummy esimator, we were able to reduce the churn cost per customer. This is a proof that in some data science problems, the best estimator is not the one with better accuracy (without considering technical considerations).\n",
    "\n",
    "To summarize this sub-section, we built an estimator using cross validation that picks the best LR parameters (C and penalty) and also picks the probability threshold that lower the churn cost per customer. Using test dataset, we get a churn cost per customer of \\$121\n",
    "\n",
    "Can we build another estimator that beats LR estimator?"
   ]
  },
  {
   "cell_type": "markdown",
   "metadata": {},
   "source": [
    "### 3.2. Random Forest"
   ]
  },
  {
   "cell_type": "markdown",
   "metadata": {},
   "source": [
    "Let's do the same analysis as we did with Logistic Regression estimator, but this time with Random Forest estimator. As we did earlier, let's start bu creating an estimator that maximizes the accuracy."
   ]
  },
  {
   "cell_type": "code",
   "execution_count": 125,
   "metadata": {
    "collapsed": true
   },
   "outputs": [],
   "source": [
    "from sklearn.ensemble import RandomForestClassifier"
   ]
  },
  {
   "cell_type": "code",
   "execution_count": 130,
   "metadata": {
    "collapsed": true
   },
   "outputs": [],
   "source": [
    "rf_cf = RandomForestClassifier(n_jobs = -1)\n",
    "\n",
    "rf_gs = GridSearchCV(rf_cf, param_grid = {'n_estimators': [100, 500, 1000]}, cv = 5)\n",
    "\n",
    "rf_gs.fit(X_train, Y_train)\n",
    "\n",
    "rf_est = rf_gs.best_estimator_"
   ]
  },
  {
   "cell_type": "code",
   "execution_count": 131,
   "metadata": {
    "collapsed": false
   },
   "outputs": [
    {
     "name": "stdout",
     "output_type": "stream",
     "text": [
      "Using RF params {'n_estimators': 1000} produce the best model accuracy: 0.930608\n"
     ]
    }
   ],
   "source": [
    "print \"Using RF params %s produce the best model accuracy: %f\" % (rf_gs.best_params_, rf_gs.best_score_)"
   ]
  },
  {
   "cell_type": "code",
   "execution_count": 132,
   "metadata": {
    "collapsed": false
   },
   "outputs": [
    {
     "name": "stdout",
     "output_type": "stream",
     "text": [
      "Accuracy on training data = 1.000000\n",
      "Accuracy on test data = 0.944528\n"
     ]
    }
   ],
   "source": [
    "print \"Accuracy on training data = %f\" % rf_est.score(X_train, Y_train)\n",
    "print \"Accuracy on test data = %f\" % rf_est.score(X_test, Y_test)"
   ]
  },
  {
   "cell_type": "markdown",
   "metadata": {},
   "source": [
    "Nice job, Random Forest Classifier! But what about our churn cost per customer?"
   ]
  },
  {
   "cell_type": "code",
   "execution_count": 133,
   "metadata": {
    "collapsed": false
   },
   "outputs": [
    {
     "data": {
      "text/plain": [
       "102.39880059970015"
      ]
     },
     "execution_count": 133,
     "metadata": {},
     "output_type": "execute_result"
    }
   ],
   "source": [
    "# Here, I'm considering a probability threshold of 0.5, as it was considered in the previous GridSearchCV\n",
    "calculate_ccpc(predict_with_threshold(rf_est, X_test, 0.5), Y_test)"
   ]
  },
  {
   "cell_type": "markdown",
   "metadata": {},
   "source": [
    "Good job! We've a higher accuracy and a lower CCpC than previous LR estimator.\n",
    "\n",
    "Now, we are going to build another RF estimator, that is picked to reduce the churn cost per customer directly from the grid search cross validation."
   ]
  },
  {
   "cell_type": "code",
   "execution_count": 137,
   "metadata": {
    "collapsed": true
   },
   "outputs": [],
   "source": [
    "rf_cf = RandomForestClassifier(n_jobs = -1)\n",
    "\n",
    "rf_gs = GridSearchCV(rf_cf, param_grid = {'n_estimators': [100, 500]}, cv = 5, scoring = scorer_based_on_churn_cost_per_customer)\n",
    "\n",
    "rf_gs.fit(X_train, Y_train)\n",
    "\n",
    "rf_est = rf_gs.best_estimator_"
   ]
  },
  {
   "cell_type": "markdown",
   "metadata": {},
   "source": [
    "_NOTA:_ Depending on your machine, the previous Grid Search can take a while. Here, I'm cheating! I'm only using three *n_estimators* values because I tried other values previousely and recursively."
   ]
  },
  {
   "cell_type": "code",
   "execution_count": 138,
   "metadata": {
    "collapsed": false
   },
   "outputs": [
    {
     "name": "stdout",
     "output_type": "stream",
     "text": [
      "Using RF params {'n_estimators': 500} help get the CCpC\n"
     ]
    }
   ],
   "source": [
    "print \"Using RF params %s help get the CCpC\" % rf_gs.best_params_"
   ]
  },
  {
   "cell_type": "code",
   "execution_count": 139,
   "metadata": {
    "collapsed": false
   },
   "outputs": [
    {
     "data": {
      "text/plain": [
       "(95.427286356821583, 0.34000000000000002)"
      ]
     },
     "execution_count": 139,
     "metadata": {},
     "output_type": "execute_result"
    }
   ],
   "source": [
    "churn_cost_per_customer_and_threshold(rf_est, X_test, Y_test)"
   ]
  },
  {
   "cell_type": "markdown",
   "metadata": {},
   "source": [
    "Waaaaaaay better! Using Random Forest estimator, with a probability threshold of 0.34 reduced the churn cost per customer bellow \\$95.5"
   ]
  },
  {
   "cell_type": "markdown",
   "metadata": {},
   "source": [
    "### 3.3. Naive Bayes\n",
    "\n",
    "Another probabilistic estimator. Let's see if Naive Bayes classifier can do better that Random Forest classifier. Again, we are going to use Grid Search Cross Validation and Cost minimization to find the best estimator."
   ]
  },
  {
   "cell_type": "code",
   "execution_count": 140,
   "metadata": {
    "collapsed": true
   },
   "outputs": [],
   "source": [
    "from sklearn.naive_bayes import GaussianNB"
   ]
  },
  {
   "cell_type": "code",
   "execution_count": 149,
   "metadata": {
    "collapsed": false
   },
   "outputs": [],
   "source": [
    "nb_cf = GaussianNB()\n",
    "\n",
    "nb_gs = GridSearchCV(nb_cf, param_grid = {}, cv = 5)\n",
    "\n",
    "nb_gs.fit(X_train, Y_train)\n",
    "\n",
    "nb_est = nb_gs.best_estimator_"
   ]
  },
  {
   "cell_type": "code",
   "execution_count": 150,
   "metadata": {
    "collapsed": false
   },
   "outputs": [
    {
     "data": {
      "text/plain": [
       "(139.28035982008996, 0.47999999999999998)"
      ]
     },
     "execution_count": 150,
     "metadata": {},
     "output_type": "execute_result"
    }
   ],
   "source": [
    "churn_cost_per_customer_and_threshold(nb_est, X_test, Y_test)"
   ]
  },
  {
   "cell_type": "markdown",
   "metadata": {},
   "source": [
    "Deceiving result! We can't lower the churn cost per customer to lower than \\$139. Let's now try using the scorer with CCpC"
   ]
  },
  {
   "cell_type": "code",
   "execution_count": 151,
   "metadata": {
    "collapsed": true
   },
   "outputs": [],
   "source": [
    "nb_cf = GaussianNB()\n",
    "\n",
    "nb_gs = GridSearchCV(nb_cf, param_grid = {}, cv = 5, scoring = scorer_based_on_churn_cost_per_customer)\n",
    "\n",
    "nb_gs.fit(X_train, Y_train)\n",
    "\n",
    "nb_est = nb_gs.best_estimator_"
   ]
  },
  {
   "cell_type": "code",
   "execution_count": 152,
   "metadata": {
    "collapsed": false
   },
   "outputs": [
    {
     "data": {
      "text/plain": [
       "(139.28035982008996, 0.47999999999999998)"
      ]
     },
     "execution_count": 152,
     "metadata": {},
     "output_type": "execute_result"
    }
   ],
   "source": [
    "churn_cost_per_customer_and_threshold(nb_est, X_test, Y_test)"
   ]
  },
  {
   "cell_type": "markdown",
   "metadata": {},
   "source": [
    "Same result. Naive Bayes classification doesn't provide a better estimator."
   ]
  },
  {
   "cell_type": "markdown",
   "metadata": {},
   "source": [
    "***\n",
    "\n",
    "## Step 4: Visualizing churn cost per customer of the three estimators\n",
    "\n",
    "We tried three different classifiers in the previous step. Let's now visualize and discuss their characteristics.\n",
    "\n",
    "We will work with the estimators that were built using our personal scorer. First, let's build the evolution of CCpC depending on the probability threshold."
   ]
  },
  {
   "cell_type": "code",
   "execution_count": 168,
   "metadata": {
    "collapsed": false
   },
   "outputs": [],
   "source": [
    "thresholds = np.arange(0, 1.01, 0.01)\n",
    "\n",
    "lr_ccpc = [calculate_ccpc(predict_with_threshold(lr_est, X_test, t), Y_test) for t in thresholds]\n",
    "rf_ccpc = [calculate_ccpc(predict_with_threshold(rf_est, X_test, t), Y_test) for t in thresholds]\n",
    "nb_ccpc = [calculate_ccpc(predict_with_threshold(nb_est, X_test, t), Y_test) for t in thresholds]"
   ]
  },
  {
   "cell_type": "code",
   "execution_count": 171,
   "metadata": {
    "collapsed": false
   },
   "outputs": [
    {
     "data": {
      "image/png": "[encoded data removed]",
      "text/plain": [
       "<matplotlib.figure.Figure at 0x11acc5650>"
      ]
     },
     "metadata": {},
     "output_type": "display_data"
    }
   ],
   "source": [
    "plt.plot(thresholds, lr_ccpc, color = '#0090ff', label = \"Logistic Regression Estimator\")\n",
    "plt.plot(thresholds, rf_ccpc, color = '#aa4400', label = \"Random Forest Estimator\")\n",
    "plt.plot(thresholds, nb_ccpc, color = '#44aa00', label = \"Naive Bayes Estimator\")\n",
    "plt.legend(loc = 'lower right')\n",
    "plt.xlabel('Probability Threshold')\n",
    "plt.ylabel('Churn Cost per Customer')\n",
    "plt.title('Evolution of CCpC per probability threshold of the three estimators')\n",
    "plt.show()"
   ]
  },
  {
   "cell_type": "markdown",
   "metadata": {},
   "source": [
    "Clearly, Random Forest estimator provides the best reduction of churn cost per customer. The lowest value is reached at CCpC of $95.43 and probability threshold of 0.34"
   ]
  },
  {
   "cell_type": "code",
   "execution_count": 175,
   "metadata": {
    "collapsed": false
   },
   "outputs": [
    {
     "name": "stdout",
     "output_type": "stream",
     "text": [
      "Min CCpC for RF estimator is $95.43\n",
      "Corresponding probability threshold is 0.34\n"
     ]
    }
   ],
   "source": [
    "print \"Min CCpC for RF estimator is $%3.2f\" % np.min(rf_ccpc)\n",
    "print \"Corresponding probability threshold is %0.2f\" % thresholds[np.argmin(rf_ccpc)]"
   ]
  },
  {
   "cell_type": "markdown",
   "metadata": {},
   "source": [
    "In our study, we have 3333 customers. As we need \\$95.43 for every customer in order to cover the customers churn, this means we need to have ~\\$318,000 at hand to cover churn costs. Not predicting churns (not having any predictor) will require ~\\$480,000 at hand to cover the same population potential churns! This means a reduction of cost of ~\\$48.50 per customer for the company."
   ]
  },
  {
   "cell_type": "markdown",
   "metadata": {},
   "source": [
    "***\n",
    "\n",
    "## Conclusion\n",
    "\n",
    "In this study, we showed how important it is to use the cost reduction of customer churns as a performance measure of the estimator, rather than just using the accuracy of the churn estimator. This led to completely different estimators, that perform completely differently. In a business objective point of view, using cost reduction takes more sense.\n",
    "\n",
    "This shows how important it is to have domain knowledge in order to better discuss the objectives and explain results.\n",
    "\n",
    "Using our churn predictor, the company makes \\$48.50 saving per customer! If the company has 10,000,000 customers, and using our estimator, it could save \\$485M!"
   ]
  }
 ],
 "metadata": {
  "kernelspec": {
   "display_name": "Python 2",
   "language": "python",
   "name": "python2"
  },
  "language_info": {
   "codemirror_mode": {
    "name": "ipython",
    "version": 2
   },
   "file_extension": ".py",
   "mimetype": "text/x-python",
   "name": "python",
   "nbconvert_exporter": "python",
   "pygments_lexer": "ipython2",
   "version": "2.7.11"
  }
 },
 "nbformat": 4,
 "nbformat_minor": 0
}
